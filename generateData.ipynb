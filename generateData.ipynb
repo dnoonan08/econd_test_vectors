{
 "cells": [
  {
   "cell_type": "code",
   "execution_count": null,
   "id": "b7d93317",
   "metadata": {},
   "outputs": [],
   "source": [
    "import numpy as np\n",
    "import matplotlib.pyplot as plt"
   ]
  },
  {
   "cell_type": "code",
   "execution_count": null,
   "id": "5a2dbde6",
   "metadata": {},
   "outputs": [],
   "source": [
    "def generatePackets(nEvents=100, \n",
    "                    tcRate=0.01,\n",
    "                    tpRate=0.04,\n",
    "                    tctp10Rate=0.01,\n",
    "                    adcScale=220,\n",
    "                    adcExponential=True,\n",
    "                    adcWidth=40,\n",
    "                    TOAcutoff=500,\n",
    "                    cmScale=150,\n",
    "                    cmExponential=True,\n",
    "                    cmWidth=50\n",
    "                   ):\n",
    "\n",
    "    tc=(np.random.random(37*12*nEvents)<tcRate).astype(int)\n",
    "    tp=(np.random.random(37*12*nEvents)<tpRate).astype(int)\n",
    "\n",
    "    #tp should be 1 when tc=1, since TcTp=10 is invalid\n",
    "    # but we set this to happen 1 percent of the time to exercise it\n",
    "    tp[tc==1]= (np.random.random(tc.sum())>tctp10Rate).astype(int)\n",
    "\n",
    "\n",
    "    #make twice as many as needed, then just drop all the ones above 1024, and keep the ones we need\n",
    "    if adcExponential:\n",
    "        adcm1=(np.random.exponential(adcScale,37*12*nEvents*4)).astype(int)\n",
    "        adc_or_tot=(np.random.exponential(adcScale,37*12*nEvents*4)).astype(int)\n",
    "    else:\n",
    "        adcm1=(np.random.normal(adcScale,adcWidth,37*12*nEvents*4)).astype(int)\n",
    "        adc_or_tot=(np.random.normal(adcScale,adcWidth,37*12*nEvents*4)).astype(int)\n",
    "        \n",
    "    adcm1=adcm1[(adcm1<1024)&(adcm1>=0)][:37*12*nEvents]\n",
    "    adc_or_tot=adc_or_tot[(adc_or_tot<1024)&(adc_or_tot>=0)][:37*12*nEvents]\n",
    "\n",
    "    # find TOA for all charges above a threshold\n",
    "    # 500 is just a cutoff that gives ~10% of hits with a toa for exponential chosen above\n",
    "    hasTOA=((adc_or_tot>500) | tc==1)\n",
    "    toa=np.zeros_like(adc_or_tot)\n",
    "    toa[hasTOA]=np.random.normal(150,25,hasTOA.sum()).astype(int)\n",
    "\n",
    "    tc=tc.reshape(nEvents,37,12)\n",
    "    tp=tp.reshape(nEvents,37,12)\n",
    "    adcm1=adcm1.reshape(nEvents,37,12)\n",
    "    adc_or_tot=adc_or_tot.reshape(nEvents,37,12)\n",
    "    toa=toa.reshape(nEvents,37,12)\n",
    "\n",
    "    ### get common modes\n",
    "    if cmExponential:\n",
    "        cm=(np.random.exponential(cmScale,12*nEvents*4))\n",
    "    else:\n",
    "        cm=(np.random.normal(cmScale,cmWidth,12*nEvents*4))\n",
    "\n",
    "    #random smear the cm by 10% gaussian twice to get two cm values\n",
    "    cm0=cm*np.random.normal(1,.1,12*nEvents*4)\n",
    "    cm1=cm*np.random.normal(1,.1,12*nEvents*4)\n",
    "\n",
    "    cm0=cm0[(cm0<1024) & (cm0>=0)][:12*nEvents].astype(int).reshape(nEvents,12)\n",
    "    cm1=cm1[(cm1<1024) & (cm1>=0)][:12*nEvents].astype(int).reshape(nEvents,12)\n",
    "\n",
    "    #build 32 bit words\n",
    "    cmData=(1<<31) + (cm0<<10) + (cm1)\n",
    "    cellData=((tc<<31) + (tp<<30) + (adcm1<<20) + (adc_or_tot<<10) + toa)\n",
    "\n",
    "\n",
    "    packets=np.zeros(nEvents*12*40,dtype=int).reshape(100,40,12)\n",
    "\n",
    "    packets[:,1,:]=cmData\n",
    "    packets[:,2:39,:] = cellData\n",
    "\n",
    "    return packets\n",
    "\n"
   ]
  },
  {
   "cell_type": "code",
   "execution_count": null,
   "id": "d0a9d2fb",
   "metadata": {},
   "outputs": [],
   "source": []
  },
  {
   "cell_type": "code",
   "execution_count": null,
   "id": "b03b0507",
   "metadata": {},
   "outputs": [],
   "source": [
    "packets=generatePackets()\n",
    "packets=packets.reshape(-1,12)\n",
    "##np.savetxt('exampleData/testVectorInputs_Random.csv',packets,delimiter=',',fmt='%d')"
   ]
  },
  {
   "cell_type": "code",
   "execution_count": null,
   "id": "3f39e144",
   "metadata": {},
   "outputs": [],
   "source": [
    "packets=generatePackets(tcRate=0,tpRate=0)\n",
    "packets=packets.reshape(-1,12)\n",
    "##np.savetxt('exampleData/testVectorInputs_NoTcTp.csv',packets,delimiter=',',fmt='%d')"
   ]
  },
  {
   "cell_type": "code",
   "execution_count": null,
   "id": "7a585df2",
   "metadata": {},
   "outputs": [],
   "source": [
    "packets=generatePackets(tcRate=0,tpRate=0,adcScale=10,adcWidth=2,adcExponential=False)\n",
    "packets=packets.reshape(-1,12)\n",
    "##np.savetxt('exampleData/testVectorInputs_LowADC.csv',packets,delimiter=',',fmt='%d')"
   ]
  },
  {
   "cell_type": "code",
   "execution_count": null,
   "id": "a6d040f2",
   "metadata": {},
   "outputs": [],
   "source": []
  }
 ],
 "metadata": {
  "kernelspec": {
   "display_name": "Python 3 (ipykernel)",
   "language": "python",
   "name": "python3"
  },
  "language_info": {
   "codemirror_mode": {
    "name": "ipython",
    "version": 3
   },
   "file_extension": ".py",
   "mimetype": "text/x-python",
   "name": "python",
   "nbconvert_exporter": "python",
   "pygments_lexer": "ipython3",
   "version": "3.9.6"
  }
 },
 "nbformat": 4,
 "nbformat_minor": 5
}
