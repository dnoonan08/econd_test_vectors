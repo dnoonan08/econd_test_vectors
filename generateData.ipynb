{
 "cells": [
  {
   "cell_type": "code",
   "execution_count": null,
   "id": "b7d93317",
   "metadata": {},
   "outputs": [],
   "source": [
    "import numpy as np\n",
    "import matplotlib.pyplot as plt"
   ]
  },
  {
   "cell_type": "code",
   "execution_count": null,
   "id": "4a3b3c1b",
   "metadata": {},
   "outputs": [],
   "source": [
    "from src.packetGeneratory import generatePackets"
   ]
  },
  {
   "cell_type": "code",
   "execution_count": null,
   "id": "d0a9d2fb",
   "metadata": {},
   "outputs": [],
   "source": []
  },
  {
   "cell_type": "code",
   "execution_count": null,
   "id": "b03b0507",
   "metadata": {},
   "outputs": [],
   "source": [
    "packets=generatePackets()\n",
    "packets=packets.reshape(-1,12)\n",
    "##np.savetxt('exampleData/testVectorInputs_Random.csv',packets,delimiter=',',fmt='%d')"
   ]
  },
  {
   "cell_type": "code",
   "execution_count": null,
   "id": "3f39e144",
   "metadata": {},
   "outputs": [],
   "source": [
    "packets=generatePackets(tcRate=0,tpRate=0)\n",
    "packets=packets.reshape(-1,12)\n",
    "##np.savetxt('exampleData/testVectorInputs_NoTcTp.csv',packets,delimiter=',',fmt='%d')"
   ]
  },
  {
   "cell_type": "code",
   "execution_count": null,
   "id": "7a585df2",
   "metadata": {},
   "outputs": [],
   "source": [
    "packets=generatePackets(tcRate=0,tpRate=0,adcScale=10,adcWidth=2,adcExponential=False)\n",
    "packets=packets.reshape(-1,12)\n",
    "##np.savetxt('exampleData/testVectorInputs_LowADC.csv',packets,delimiter=',',fmt='%d')"
   ]
  },
  {
   "cell_type": "code",
   "execution_count": null,
   "id": "a6d040f2",
   "metadata": {},
   "outputs": [],
   "source": []
  }
 ],
 "metadata": {
  "kernelspec": {
   "display_name": "Python 3 (ipykernel)",
   "language": "python",
   "name": "python3"
  },
  "language_info": {
   "codemirror_mode": {
    "name": "ipython",
    "version": 3
   },
   "file_extension": ".py",
   "mimetype": "text/x-python",
   "name": "python",
   "nbconvert_exporter": "python",
   "pygments_lexer": "ipython3",
   "version": "3.9.6"
  }
 },
 "nbformat": 4,
 "nbformat_minor": 5
}
